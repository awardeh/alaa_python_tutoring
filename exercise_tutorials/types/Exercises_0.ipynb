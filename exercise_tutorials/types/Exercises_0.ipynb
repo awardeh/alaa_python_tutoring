{
 "cells": [
  {
   "cell_type": "markdown",
   "id": "f34f0e67",
   "metadata": {},
   "source": [
    "# HOMEWORK SET #0"
   ]
  },
  {
   "cell_type": "markdown",
   "id": "72632c90",
   "metadata": {},
   "source": [
    "### What is `:int`, `-> str` and `-> None` ?\n",
    "\n",
    "in python, we usually don't specify the data type of the variables, but when creating functions, it's always better to create a `typehint`.\n",
    "\n",
    "Type hints are meant for the user of this function, whoever calling it, to know what they should input to it.\n",
    "\n",
    "If I were using `fizzbuzzbazz`, I wouldn't know what it's expecting as an input nor what it's going to give me\n",
    "\n",
    "This is where type hints and documentation comes handy.\n",
    "\n",
    "Syntax goes:\n",
    "\n",
    "`def function(variable:input_type) -> return_type:`\n",
    "\n",
    "input_type, return_type can be something like `str`, `int`, `float`, `list` etc.\n",
    "\n",
    "when we use a Null value (None in Python) as an output type hint, we're basically saying this function does not return anything. it does whatever it does but not output"
   ]
  },
  {
   "cell_type": "markdown",
   "id": "b5e360a1",
   "metadata": {},
   "source": [
    "## Warmup exercise\n",
    "\n",
    "Given our previous exercise where we created `fizzbuzzbazz` function, \n",
    "let's add an update to it.\n",
    "\n",
    "We want the `fizzbuzzbazz` function to print every output UP-TO maximum_number\n",
    "\n",
    "previously, `fizzbuzzbazz` only outputs a string being `fizz`, `buzz`, `fizzbuzz` or `fizzbuzzbazz` \n",
    "\n",
    "input was: 1 integer\n",
    "output was: 1 string\n",
    "\n",
    "let's change this function to be \n",
    "\n",
    "input: 1 integer\n",
    "output: no output, we want it to just print `fizz`, `buzz`, `fizzbuzz` or `fizzbuzzbazz` for every number for 1 to `maximum_number`\n",
    "\n",
    "\n",
    "\n",
    "``` \n",
    "example:\n",
    "maximum_number is 5 \n",
    "no return but the console will print:\n",
    "1 : buzz\n",
    "2 : fizz\n",
    "3 : fizzbuzzbazz\n",
    "4 : fizz\n",
    "5 : fizzbuzzbazz\n",
    "```"
   ]
  },
  {
   "cell_type": "code",
   "execution_count": null,
   "id": "ce05244a",
   "metadata": {},
   "outputs": [],
   "source": [
    "# The original definition \n",
    "\n",
    "# def fizzbuzzbazz(maximum_number:int) -> str:\n",
    "#     # returns one of `fizz`, `buzz`, `fizzbuzz` or `fizzbuzzbazz` depending on value of maximum_number\n",
    "\n",
    "\n",
    "# New definition\n",
    "\n",
    "# def fizzbuzzbazz(maximum_number:int) -> None: \n",
    "#     pass"
   ]
  },
  {
   "cell_type": "code",
   "execution_count": null,
   "id": "f17a7fb5",
   "metadata": {},
   "outputs": [],
   "source": [
    "# Use this cell for solution, delete `pass` when you start. Pass means `do nothing`, placeholder.\n",
    "\n",
    "def fizzbuzzbazz(maximum_number:int) -> None: \n",
    "    pass"
   ]
  },
  {
   "cell_type": "markdown",
   "id": "e518f44d",
   "metadata": {},
   "source": [
    "# Basic Data Types in Python\n",
    "## Preamble\n",
    "\n",
    "Every programming language defines `types`\n",
    "\n",
    "What does that mean? it basically tells us what is the type of data stored in this particular variable\n",
    "\n",
    "Python makes life easier (but also harder sometimes, if not careful) because it's not very strict on types.\n",
    "\n",
    "You have a string for example, you can't go around dividing a number by that variable, it will throw an error."
   ]
  },
  {
   "cell_type": "markdown",
   "id": "3dec1d68",
   "metadata": {},
   "source": [
    "\n",
    "as an example, we're trying to define a variable that contains a integer number of `5` but then we change our mind and want this variable to become a string/character of `\"5\"` (in quotations, not a number)\n",
    "\n",
    "feel free to run the below cell\n"
   ]
  },
  {
   "cell_type": "code",
   "execution_count": null,
   "id": "3593b761",
   "metadata": {},
   "outputs": [],
   "source": [
    "# i assigned integer 5 to this variable\n",
    "number_five = 5\n",
    "# changed my mind, i want the character \n",
    "number_five = \"5\"\n",
    "# now number_five is a string\n",
    "\n",
    "# Let's see what happens when we're not using types properly\n",
    "\n",
    "# This is a try/except statement, if an error, (exception),  occurs in `try`, it will be caught and then whatever is in `except` will run. \n",
    "\n",
    "# I am using it here in order for you to run this cell without any errors.\n",
    "\n",
    "\n",
    "\n",
    "try:\n",
    "    # my number is cool\n",
    "    number_five = 5\n",
    "    # I divided 10 by this variable\n",
    "    print(\"10 divided by 5 is\")\n",
    "    print(10 / number_five)\n",
    "except Exception as e:\n",
    "    # logic won't reach this line\n",
    "    print(\"Error Occured\", e) # if an error happens, this will print, e is the python error\n",
    "\n",
    "\n",
    "\n",
    "try:\n",
    "    # my \"number\" is cool\n",
    "    number_five = \"5\"\n",
    "    # I divided 10 by this variable\n",
    "    print(\"10 divided by 5 is\")\n",
    "    print(10 / number_five)\n",
    "except Exception as e:\n",
    "    # this is definietly printing, but the code/program won't break\n",
    "    print(\"Error Occured --\", e) # "
   ]
  },
  {
   "cell_type": "markdown",
   "id": "05353a1c",
   "metadata": {},
   "source": [
    "Now that we know why types are important, I would like to point out how other programming languages do it\n",
    "\n",
    "if we declare number_five variable in `C` programming language:\n",
    "\n",
    "```int number_five = 5;```\n",
    "\n",
    "before declaring the variable, we state the type it holds, in this case an integer.\n",
    "\n",
    "if we do \n",
    "\n",
    "```string number_five = 5;```\n",
    "or\n",
    "\n",
    "```int number_five = \"5\";```\n",
    "\n",
    "these will cause an error"
   ]
  },
  {
   "cell_type": "markdown",
   "id": "92b6db4f",
   "metadata": {},
   "source": [
    "# Basic Data Types\n",
    "Self explanatory ones:\n",
    "`int`: Integer (Whole) number\n",
    "\n",
    "`float`: floating point number (decimal) \n",
    "\n",
    "`bool`: Boolean (True/False)\n",
    "\n",
    "\n",
    "**Sequence Data Types**: \n",
    "These data types store a collection of values.\n",
    "\n",
    "`List`: ordered collection of values, **mutable**\n",
    "\n",
    "`Tuple`: Ordered collection of values, **immutable**\n",
    "\n",
    "`str`: Ordered collection of characters, **immutable**\n",
    "\n",
    "`set`: UNORDERED collection of UNIQUE values, **mutable** \n",
    "\n",
    "\n",
    "other:\n",
    "\n",
    "`Dict`: for next time :) \n",
    "\n",
    "### Mutable and immutable? \n",
    "\n",
    "Mutable means this type can change its values and characteristics\n",
    "\n",
    "List expands its size as you add more items in it and the items can change value, unlike a tuple. \n",
    "Tuple is like a list, but it cannot expand nor change the values in side them.\n",
    "String is kind of like a list, but under the hood it cannot expand nor change items without changing the entire data within the variable.\n",
    "\n",
    "### But I can edit strings! how are they immutable?\n",
    "When you do \n",
    "```\n",
    "my_str = \"my string\"\n",
    "my_str_2 = \" number 2\"\n",
    "my_str += my_str_2 # my str is now \"my string number 2\"\n",
    "```\n",
    "You did not change the original value of the collection, the original string didn't expand. you created a brand new string and replaced the existing one. **keep this in mind, we'll revist in a later future lesson about performance**\n",
    "\n",
    "\n",
    "### Ordered vs Unordered?\n",
    "Ordered means that the colleciton is stored in a specific order such that you can index them. in this list `lst = ['a', 'b', 'c']` you can index the letter 'c' by doing `lst[2]`.\n",
    "A set does not contain any order, when you add a new item in the set, it doesn't store it in order, the previous items aren't ordered either. the order is random. The purpose of a set is to contain unique values. If you add an item that is already in the set, it will be ignored."
   ]
  },
  {
   "cell_type": "code",
   "execution_count": null,
   "id": "82542dd2",
   "metadata": {},
   "outputs": [],
   "source": [
    "\n",
    "my_list = [\"a\", \"b\", \"c\"] # New list\n",
    "print(\"my list contains: \", my_list)\n",
    "my_list.append(\"d\") # I expanded this list with \"d\"\n",
    "print(\"my list now contains: \", my_list)\n",
    "\n",
    "\n",
    "my_tuple = (\"a\", \"b\", \"c\", \"d\")\n",
    "print(\"my tuple contains: \", my_tuple)\n",
    "\n",
    "# Let's try adding a new item in this tuple\n",
    "try: \n",
    "    my_tuple.append(\"f\") # tuple doesn't have append :(\n",
    "except Exception as e:\n",
    "    print(\"Error - \", e)\n",
    "\n"
   ]
  },
  {
   "cell_type": "code",
   "execution_count": null,
   "id": "fc7b5fba",
   "metadata": {},
   "outputs": [],
   "source": [
    "# Let's try editing values\n",
    "\n",
    "my_list = [\"a\", \"b\", \"c\"] # New list\n",
    "print(\"my list contains: \", my_list)\n",
    "my_list[0] = \"f\" # I changed the first item\n",
    "print(\"my list now contains: \", my_list)\n",
    "\n",
    "my_tuple = (\"a\", \"b\", \"c\", \"d\")\n",
    "\n",
    "\n",
    "try: \n",
    "    my_tuple[0] = \"f\" \n",
    "    print(my_tuple)\n",
    "except Exception as e:\n",
    "    print(\"Error - \", e)\n"
   ]
  },
  {
   "cell_type": "code",
   "execution_count": null,
   "id": "6883776a",
   "metadata": {},
   "outputs": [],
   "source": [
    "# you can still index the tuple though.\n",
    "print(\"item 0 of my tuple is\", my_tuple[0])\n",
    "\n",
    "# and you can loop too\n",
    "\n",
    "for item in my_tuple:\n",
    "    print(item)"
   ]
  },
  {
   "cell_type": "code",
   "execution_count": null,
   "id": "497f22fc",
   "metadata": {},
   "outputs": [],
   "source": [
    "# Set example, try running this\n",
    "\n",
    "my_set = {\"a\", \"b\", \"c\", \"d\"}\n",
    "\n",
    "try: \n",
    "    my_set[0]\n",
    "except Exception as e:\n",
    "    print(\"Error - \", e)\n",
    "\n",
    "for item in my_set:\n",
    "    print(item)\n",
    "    # You can still loop through the set's items but they won't be in the order you expect!"
   ]
  },
  {
   "cell_type": "markdown",
   "id": "48852032",
   "metadata": {},
   "source": [
    "# Converting data types\n",
    "Python has a lot of utilities to allow you to convert between data types\n",
    "int <-> float\n",
    "\n",
    "str <-> list\n",
    "\n",
    "list <-> set\n",
    "\n",
    "list <-> tuple\n",
    "\n",
    "and it's quite easy"
   ]
  },
  {
   "cell_type": "code",
   "execution_count": null,
   "id": "36843ef9",
   "metadata": {},
   "outputs": [],
   "source": [
    "my_list = [\"a\", \"b\", \"c\"] # defining a list\n",
    "\n",
    "my_set = set(my_list) # I created a set from list \n",
    "\n",
    "my_tuple = tuple(my_list) # I created a tuple from list\n",
    "\n",
    "my_string = str(my_list) # and a string from this list\n",
    "print(my_string)\n",
    "\n",
    "my_int = 5\n",
    "\n",
    "my_float = 1.0\n",
    "\n",
    "print(my_int + my_float) # is this integer or float? python converts it for you automatically\n",
    "\n",
    "print(my_int / my_int)\n",
    "\n",
    "print(my_int // my_int)\n",
    "\n",
    "# Why was the first division float, but the second int? `/` means divide and return floating value, `//` means divide and return floor of that value (e.g. integer). ex. 3/4 = 0.75, 3/4 = 0\n",
    "\n"
   ]
  },
  {
   "cell_type": "markdown",
   "id": "46705526",
   "metadata": {},
   "source": [
    "### the MEAT\n",
    "# EXERCISE SET\n",
    "#### Let's start this set with list, set, tuple, etc related exercises."
   ]
  },
  {
   "cell_type": "markdown",
   "id": "8a3cfb20",
   "metadata": {},
   "source": [
    "ex 1.\n",
    "\n",
    "Complete this function, the input will always be a list of integers and the output is expected to be an integer which is the sum of all integers in this list."
   ]
  },
  {
   "cell_type": "markdown",
   "id": "78dbea83",
   "metadata": {},
   "source": [
    "``` \n",
    "def get_sum_of_integer_list(input_list:list[int]) -> int:\n",
    "    pass\n",
    "```"
   ]
  },
  {
   "cell_type": "code",
   "execution_count": null,
   "id": "79e9be0a",
   "metadata": {},
   "outputs": [],
   "source": [
    "# Solve here\n",
    "def get_sum_of_integer_list(input_list:list[int]) -> int:\n",
    "    \"\"\"\n",
    "    Calculates the sum of all elements in an integer list\n",
    "    \"\"\"\n",
    "    pass\n"
   ]
  },
  {
   "cell_type": "code",
   "execution_count": null,
   "id": "12881cec",
   "metadata": {},
   "outputs": [],
   "source": [
    "# Samples \n",
    "# get_sum_of_integer_list([0, 0, 0]) # output is integer 0\n",
    "# get_sum_of_integer_list([0, 10, -1]) # output is integer 9 "
   ]
  },
  {
   "cell_type": "markdown",
   "id": "bdbdeac8",
   "metadata": {},
   "source": [
    "ex 2.\n",
    "\n",
    "Complete this function\n",
    "\n",
    "Get the largest value in this list\n",
    "\n",
    "the input will always be a list of integers and the output is expected to be an integer which is the sum of all integers in this list.\n"
   ]
  },
  {
   "cell_type": "markdown",
   "id": "8c0541a3",
   "metadata": {},
   "source": [
    "```\n",
    "def get_maximum_value_of_integer_list(input_list:list[int]) -> int:\n",
    "    \"\"\"\n",
    "    Returns the maximum value in a list of integers.\n",
    "    \"\"\"\n",
    "    pass\n",
    "```"
   ]
  },
  {
   "cell_type": "code",
   "execution_count": null,
   "id": "0cc6367e",
   "metadata": {},
   "outputs": [],
   "source": [
    "# Solve here\n",
    "def get_maximum_value_of_integer_list(input_list:list[int]) -> int:\n",
    "    \"\"\"\n",
    "    Returns the maximum value in a list of integers.\n",
    "    \"\"\"\n",
    "\n",
    "    pass\n"
   ]
  },
  {
   "cell_type": "code",
   "execution_count": null,
   "id": "71935995",
   "metadata": {},
   "outputs": [],
   "source": [
    "# Samples \n",
    "# get_sum_of_integer_list([0, 0, 0]) # output is integer 0\n",
    "# get_sum_of_integer_list([0, 10, -1]) # output is integer 10 "
   ]
  },
  {
   "cell_type": "markdown",
   "id": "317c16d5",
   "metadata": {},
   "source": [
    "ex 3.\n",
    "\n",
    "Complete this function\n",
    "\n",
    "Check if first and last elements are the same in this list.\n",
    "\n",
    "the input will always be a list with 1 or more elements, and the output is expected to be Boolean (True/False).\n"
   ]
  },
  {
   "cell_type": "markdown",
   "id": "727ce5c7",
   "metadata": {},
   "source": [
    "```\n",
    "def check_if_first_and_last_are_equal(input_list:list) -> bool:\n",
    "    \"\"\"\n",
    "    Checks if first and last elements of an \n",
    "    arbitrary list with 1 or more elements are equal.\n",
    "    \"\"\"\n",
    "\n",
    "    pass\n",
    "```"
   ]
  },
  {
   "cell_type": "code",
   "execution_count": null,
   "id": "7de3e62f",
   "metadata": {},
   "outputs": [],
   "source": [
    "# I Don't know how much you know indexing, but this should be a check.\n",
    "# Solve here\n",
    "def check_if_first_and_last_are_equal(input_list:list) -> bool:\n",
    "    \"\"\"\n",
    "    Checks if first and last elements of an \n",
    "    arbitrary list with 1 or more elements are equal.\n",
    "    \"\"\"\n",
    "\n",
    "    pass\n",
    "\n"
   ]
  },
  {
   "cell_type": "code",
   "execution_count": 26,
   "id": "41af5cc3",
   "metadata": {},
   "outputs": [],
   "source": [
    "# Samples \n",
    "# check_if_first_and_last_are_equal([0, 0, 0]) # output is True\n",
    "# check_if_first_and_last_are_equal([0, 10, -1]) # output is False\n",
    "# check_if_first_and_last_are_equal([10]) # output is True "
   ]
  },
  {
   "cell_type": "markdown",
   "id": "9e70d480",
   "metadata": {},
   "source": [
    "ex 4. unique items\n",
    "\n",
    "Finih this function\n",
    "```\n",
    "def get_unique_values_from_list(input_list:list) -> list:\n",
    "    \"\"\"\n",
    "    checks values in arbitrary list and returns a new list containing unique values.\n",
    "    \"\"\"\n",
    "\n",
    "    pass\n",
    "```"
   ]
  },
  {
   "cell_type": "code",
   "execution_count": null,
   "id": "97630f71",
   "metadata": {},
   "outputs": [],
   "source": [
    "def get_unique_values_from_list(input_list:list) -> list:\n",
    "    \"\"\"\n",
    "    checks values in arbitrary list and returns a new list containing unique values.\n",
    "    \"\"\"\n",
    "\n",
    "    pass\n",
    "\n"
   ]
  },
  {
   "cell_type": "markdown",
   "id": "0372d80a",
   "metadata": {},
   "source": [
    "ex 5. head scratcher\n",
    "\n",
    "Fix this function!\n",
    "\n",
    "\n",
    "####### hint issue from loops, but within them.\n",
    "\n",
    "\n",
    "```\n",
    "def sort_integer_list_with_two_loops(input_list:list) -> list:\n",
    "    \"\"\"\n",
    "    A buggy function, doesn't work properly but \n",
    "    this is supposed to return the input list of int sorted from minimum to maximum\n",
    "    \"\"\"\n",
    "    list_length = len(input_list) - 1\n",
    "    \n",
    "    for index in range(list_length):\n",
    "        for index_2 in range(list_length - index - 1):\n",
    "            if input_list[index] > input_list[index_2]:\n",
    "                input_list[index] = input_list[index_2]\n",
    "                input_list[index_2] = input_list[index]\n",
    "    return input_list\n",
    "\n",
    "```"
   ]
  },
  {
   "cell_type": "code",
   "execution_count": null,
   "id": "dc8d7290",
   "metadata": {},
   "outputs": [],
   "source": [
    "def sort_integer_list_with_two_loops(input_list:list) -> list:\n",
    "    \"\"\"\n",
    "    A buggy function, doesn't work properly but \n",
    "    this is supposed to return the input list of int sorted from minimum to maximum\n",
    "    \"\"\"\n",
    "    list_length = len(input_list) - 1\n",
    "    \n",
    "    for index in range(list_length):\n",
    "        for index_2 in range(list_length - index - 1):\n",
    "            if input_list[index] > input_list[index_2]:\n",
    "                input_list[index] = input_list[index_2]\n",
    "                input_list[index_2] = input_list[index]\n",
    "    return input_list\n",
    "\n",
    "\n"
   ]
  }
 ],
 "metadata": {
  "kernelspec": {
   "display_name": "yousef",
   "language": "python",
   "name": "python3"
  },
  "language_info": {
   "codemirror_mode": {
    "name": "ipython",
    "version": 3
   },
   "file_extension": ".py",
   "mimetype": "text/x-python",
   "name": "python",
   "nbconvert_exporter": "python",
   "pygments_lexer": "ipython3",
   "version": "3.13.3"
  }
 },
 "nbformat": 4,
 "nbformat_minor": 5
}
